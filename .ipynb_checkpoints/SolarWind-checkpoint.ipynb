{
 "cells": [
  {
   "cell_type": "code",
   "execution_count": 22,
   "metadata": {
    "scrolled": true
   },
   "outputs": [],
   "source": [
    "import geohash\n",
    "\n",
    "def parseLine(line):\n",
    "    variables = line.split(\"\\t\")\n",
    "    try:\n",
    "        lat = float(variables[1])\n",
    "        lon = float(variables[2])\n",
    "        wind_speed = float(variables[17])\n",
    "        cloud_cover = float(variables[12])\n",
    "        #Energy is proportional to the third power of wind speed.\n",
    "        #At here, we define wind_energy_factor = wind_speed * wind_speed * wind_speed\n",
    "        wind_energy_factor = wind_speed * wind_speed * wind_speed;\n",
    "        \n",
    "        gh = geohash.encode(lat, lon)\n",
    "        return (gh, wind_energy_factor, cloud_cover)\n",
    "    except:\n",
    "        return ('', 0, 0)\n",
    "    \n",
    "#text_fileTT = spark.read.load('hdfs://orion11:21001/3hr_sample/sampled_2015/*', format='csv', sep='\\t', inferSchema=True, header=True)\n",
    "text_file = sc.textFile(\"hdfs://orion11:21001/3hr/2018/*\")\n",
    "\n",
    "# (GeoHash, wind_energy_factor, cloud_cover)\n",
    "parsed_data = text_file \\\n",
    "    .map(lambda line: parseLine(line))"
   ]
  },
  {
   "cell_type": "code",
   "execution_count": 23,
   "metadata": {},
   "outputs": [],
   "source": [
    "#we sort the geohashs by their cumulative wind_energy_factor to find out top3 wind farm\n",
    "wind_data_top3 = parsed_data.map(lambda data: (data[0][0: 4], data[1])) \\\n",
    "    .reduceByKey(lambda a, b: a + b) \\\n",
    "    .sortBy(lambda x: x[1], False)"
   ]
  },
  {
   "cell_type": "code",
   "execution_count": 25,
   "metadata": {
    "scrolled": true
   },
   "outputs": [
    {
     "data": {
      "text/plain": [
       "[('dxx7', 30610549.790516056),\n",
       " ('dxwe', 30515688.971412513),\n",
       " ('dxwk', 30197750.69924766)]"
      ]
     },
     "execution_count": 25,
     "metadata": {},
     "output_type": "execute_result"
    }
   ],
   "source": [
    "'''\n",
    "top 3 best wind places\n",
    "dxx7\n",
    "dxwe\n",
    "dxwk\n",
    "'''\n",
    "wind_data_top3.take(3)"
   ]
  },
  {
   "cell_type": "code",
   "execution_count": 26,
   "metadata": {},
   "outputs": [],
   "source": [
    "#we sort the geohashs by their cumulative cloud_cover in decreasing order to find out top3 solar farm\n",
    "solar_data_top3 = parsed_data.map(lambda data: (data[0][0: 4], data[2])) \\\n",
    "    .reduceByKey(lambda a, b: a + b) \\\n",
    "    .sortBy(lambda x: x[1], True)\n"
   ]
  },
  {
   "cell_type": "code",
   "execution_count": 27,
   "metadata": {},
   "outputs": [
    {
     "data": {
      "text/plain": [
       "[('', 0), ('dd93', 26282.0), ('d6bm', 27174.0), ('dd9g', 27642.0)]"
      ]
     },
     "execution_count": 27,
     "metadata": {},
     "output_type": "execute_result"
    }
   ],
   "source": [
    "'''\n",
    "top 3 best solar energy places\n",
    "dd93\n",
    "d6bm\n",
    "dd9g\n",
    "'''\n",
    "solar_data_top3.take(4)"
   ]
  },
  {
   "cell_type": "code",
   "execution_count": 28,
   "metadata": {},
   "outputs": [
    {
     "data": {
      "text/plain": [
       "[('dxx7', 30610549.790516056)]"
      ]
     },
     "execution_count": 28,
     "metadata": {},
     "output_type": "execute_result"
    }
   ],
   "source": [
    "wind_data_top3.take(1)"
   ]
  },
  {
   "cell_type": "code",
   "execution_count": 29,
   "metadata": {},
   "outputs": [
    {
     "data": {
      "text/plain": [
       "[('', 0), ('dd93', 26282.0)]"
      ]
     },
     "execution_count": 29,
     "metadata": {},
     "output_type": "execute_result"
    }
   ],
   "source": [
    "solar_data_top3.take(2)"
   ]
  },
  {
   "cell_type": "code",
   "execution_count": 30,
   "metadata": {},
   "outputs": [],
   "source": [
    "#As you can see, the best wind farm's cumulative wind_energy_factor is around 30610550\n",
    "#the best solar farm's cumulative cloud_cover is 26282.0\n",
    "#So we set the factor we will us later f = 1165. \n",
    "#Then, max_cumulative_wind_energy_factor - (f * min_cumulative_cloud_cover) = 0\n",
    "\n",
    "#To answer the question: Locate the top 3 places for solar + wind farm.\n",
    "#We defind combine_energy_factor = wind_energy_factor - (f * cloud_cover).\n",
    "#Then, try to find out the top3 geohashs with biggest cumulative_combine_energy_factor. \n",
    "#We regard them as top 3 places for solar + wind farm. \n",
    "#Because these places has big cumulative_wind_energy_factor with small cumulative_cloud_cover,\n",
    "#which means they have more wind energy with less cloud cover.\n",
    "\n",
    "\n",
    "import geohash\n",
    "\n",
    "def parseLine(line):\n",
    "    variables = line.split(\"\\t\")\n",
    "    try:\n",
    "        lat = float(variables[1])\n",
    "        lon = float(variables[2])\n",
    "        wind_speed = float(variables[17])\n",
    "        cloud_cover = float(variables[12])\n",
    "        #Energy is proportional to the third power of wind speed.\n",
    "        #At here, we define wind_energy_factor = wind_speed * wind_speed * wind_speed\n",
    "        wind_energy_factor = wind_speed * wind_speed * wind_speed;\n",
    "        \n",
    "        gh = geohash.encode(lat, lon)\n",
    "        return (gh, wind_energy_factor - 1165 * cloud_cover)\n",
    "    except:\n",
    "        return ('', 0)\n",
    "    \n",
    "#text_fileTT = spark.read.load('hdfs://orion11:21001/3hr_sample/sampled_2015/*', format='csv', sep='\\t', inferSchema=True, header=True)\n",
    "text_file = sc.textFile(\"hdfs://orion11:21001/3hr/2018/*\")\n",
    "\n",
    "# (GeoHash, wind_energy_factor, cloud_cover)\n",
    "parsed_data = text_file \\\n",
    "    .map(lambda line: parseLine(line))\n",
    "\n",
    "\n",
    "wind_solar_top3 = parsed_data.map(lambda data: (data[0][0: 4], data[1])) \\\n",
    "    .reduceByKey(lambda a, b: a + b) \\\n",
    "    .sortBy(lambda x: x[1], False)"
   ]
  },
  {
   "cell_type": "code",
   "execution_count": 32,
   "metadata": {},
   "outputs": [
    {
     "data": {
      "text/plain": [
       "[('', 0),\n",
       " ('dd93', -29370154.311647378),\n",
       " ('d6bm', -30112892.517710146),\n",
       " ('dd9g', -31047502.468095403)]"
      ]
     },
     "execution_count": 32,
     "metadata": {},
     "output_type": "execute_result"
    }
   ],
   "source": [
    "'''\n",
    "Here is the top3 solar + wind farm places in our view\n",
    "dd93\n",
    "d6bm\n",
    "dd9g\n",
    "'''\n",
    "\n",
    "wind_solar_top3.take(4)"
   ]
  }
 ],
 "metadata": {
  "kernelspec": {
   "display_name": "Python 3",
   "language": "python",
   "name": "python3"
  },
  "language_info": {
   "codemirror_mode": {
    "name": "ipython",
    "version": 3
   },
   "file_extension": ".py",
   "mimetype": "text/x-python",
   "name": "python",
   "nbconvert_exporter": "python",
   "pygments_lexer": "ipython3",
   "version": "3.7.3"
  }
 },
 "nbformat": 4,
 "nbformat_minor": 2
}
