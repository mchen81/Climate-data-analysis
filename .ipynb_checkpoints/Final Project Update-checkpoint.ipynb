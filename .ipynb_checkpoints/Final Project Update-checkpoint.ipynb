{
 "cells": [
  {
   "cell_type": "code",
   "execution_count": 1,
   "metadata": {},
   "outputs": [],
   "source": [
    "#Task: Find out hot products by sorting all the products according to their review number\n",
    "\n",
    "import geohash\n",
    "from datetime import datetime\n",
    "\n",
    "def parseLine(line):\n",
    "    variables = line.split(\"\\t\")\n",
    "    try:\n",
    "        productID = string(variables[0])\n",
    "        userID = string(variables[1])\n",
    "        reviewDate = string(variables[2])  \n",
    "        \n",
    "        # if you encounter a \"year is out of range\" error the timestamp\n",
    "        # may be in milliseconds, try `ts /= 1000` in that case\n",
    "        # yearMonth = datetime.utcfromtimestamp(ts).strftime('%Y-%m')\n",
    "        \n",
    "        return (productID, userID, humidity, reviewDate)\n",
    "    except:\n",
    "        return ('None', '', '', '', '')\n",
    "    \n",
    "#text_file = spark.read.load('hdfs://orion11:21001/3hr_sample/sampled_2015/*', format='csv', sep='\\t', inferSchema=True, header=True)\n",
    "#text_fileML = sc.textFile(\"hdfs://orion11:21001/3hr_sample/*\")\n",
    "text_fileML = sc.textFile(\"hdfs://orion11:21001//final01/part-r-00000\")\n"
   ]
  },
  {
   "cell_type": "code",
   "execution_count": null,
   "metadata": {},
   "outputs": [],
   "source": []
  }
 ],
 "metadata": {
  "kernelspec": {
   "display_name": "Python 3",
   "language": "python",
   "name": "python3"
  },
  "language_info": {
   "codemirror_mode": {
    "name": "ipython",
    "version": 3
   },
   "file_extension": ".py",
   "mimetype": "text/x-python",
   "name": "python",
   "nbconvert_exporter": "python",
   "pygments_lexer": "ipython3",
   "version": "3.7.3"
  }
 },
 "nbformat": 4,
 "nbformat_minor": 2
}
