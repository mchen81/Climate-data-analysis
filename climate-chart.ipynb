{
 "cells": [
  {
   "cell_type": "markdown",
   "metadata": {},
   "source": [
    "# Project3-Climate Chart\n",
    "\n",
    "## Description\n",
    "Given a Geohash prefix as an input(the *input_geo_hash*), it will create a chart including high, low, average temperatures and monthly average rainfall.  \n",
    "\n",
    "The *parse_line function* will read each line from the given file path(in hdfs) and filter out the location not fitting give geo prefix.  "
   ]
  },
  {
   "cell_type": "markdown",
   "metadata": {},
   "source": [
    "## Input \n",
    "Need to assign a geo-hash prefix to the *input_geo_hash*. The default value is \"9qq\" (About on Las Vegas)  \n",
    "Also need to give a NAM dataset, In this example we are using sampled dataset on 2019"
   ]
  },
  {
   "cell_type": "code",
   "execution_count": 29,
   "metadata": {},
   "outputs": [],
   "source": [
    "input_geo_hash = '9qq'\n",
    "text_file = sc.textFile(\"hdfs://orion11:12001/pj3/3hr_sample/sampled_2016\")"
   ]
  },
  {
   "cell_type": "code",
   "execution_count": 30,
   "metadata": {},
   "outputs": [],
   "source": [
    "import geohash\n",
    "import datetime\n",
    "def parse_line(line):\n",
    "    variables = line.split(\"\\t\")\n",
    "    try:\n",
    "        milliseconds = int(variables[0])\n",
    "        dt = datetime.datetime.fromtimestamp(milliseconds/1000.0)\n",
    "\n",
    "        lat = float(variables[1])\n",
    "        lon = float(variables[2])\n",
    "        temperature = float(variables[10])\n",
    "        precipitation = float(variables[13])\n",
    "        gh = geohash.encode(lat, lon)\n",
    "        \n",
    "        if gh.startswith(input_geo_hash):\n",
    "            return (dt.month, (temperature, precipitation))\n",
    "        else :\n",
    "            return (0,(0,0))\n",
    "    except:\n",
    "        return (0,(0,0))\n",
    "    \n",
    "parsed_data = text_file.map(lambda line: parse_line(line)).filter(lambda val: val[0] > 0)"
   ]
  },
  {
   "cell_type": "markdown",
   "metadata": {},
   "source": [
    "## Spark Strategy\n",
    "We will use *aggregateByKey* to combine all data in a same month and area. To do so, we need to define zero value, seq-func, comb-func for *aggregateByKey*.   \n",
    "\n",
    "The aggregating format is in a tuple of (count, max temperature, min temerature, sum precipitation, sum temperature).   \n",
    "\n",
    "The thrid element in the zero-value is 9999 because it would be reaplaced by the first element.    "
   ]
  },
  {
   "cell_type": "code",
   "execution_count": 31,
   "metadata": {},
   "outputs": [],
   "source": [
    "zero_value = (0, 0, 9999, 0, 0)\n",
    "\n",
    "def seqf(acc, temp_prec_pair):\n",
    "    (temp, prec) = temp_prec_pair\n",
    "    cnt = acc[0] + 1\n",
    "    max_temp = max(acc[1], temp)\n",
    "    min_temp = min(acc[2], temp)\n",
    "    sum_prec = acc[3] + prec\n",
    "    sum_temp = acc[4] + temp    \n",
    "    return (cnt, max_temp, min_temp, sum_prec, sum_temp)\n",
    "\n",
    "def combf(a, b): \n",
    "    cnt = a[0] + b[0]\n",
    "    max_temp = max(a[1], b[1])\n",
    "    min_temp = min(a[2], b[2])\n",
    "    sum_prec = a[3] + b[3]\n",
    "    sum_temp = a[4] + b[4]\n",
    "    return (cnt, max_temp, min_temp, sum_prec, sum_temp)\n",
    "\n",
    "def map_to_output_format(metric):\n",
    "    month = \"{:02d}\".format(metric[0])\n",
    "    cnt = metric[1][0]\n",
    "    max_temp = metric[1][1]\n",
    "    min_temp = metric[1][2]\n",
    "    avg_prec = metric[1][3] / cnt\n",
    "    avg_temp = metric[1][4] / cnt\n",
    "    return (month, max_temp ,min_temp, avg_prec, avg_temp)\n"
   ]
  },
  {
   "cell_type": "markdown",
   "metadata": {},
   "source": [
    "### Start to aggregate data\n",
    "We aggregate the data here and output to a .clim file for instructor's script to create a chart.    \n",
    "**Note** If the output result does not contain 12 element(12 months), an exception will be raised and no output file will be created.   \n",
    "The output files will be under climate-chart-script/"
   ]
  },
  {
   "cell_type": "code",
   "execution_count": 32,
   "metadata": {},
   "outputs": [],
   "source": [
    "aggregated = parsed_data.aggregateByKey(zero_value, seqf, combf) \\\n",
    "                        .map(lambda metric: map_to_output_format(metric))\n",
    "output_file_path = 'climate-chart-script/climate-chart-' + input_geo_hash + '.clim'\n",
    "output_data = aggregated.collect()\n",
    "\n",
    "if(len(output_data) != 12):\n",
    "    raise Exception(\"Not enough data to make a chart\")\n"
   ]
  },
  {
   "cell_type": "markdown",
   "metadata": {},
   "source": [
    "If the .clim output file is created, it executes the instructor's script to create a chart. "
   ]
  },
  {
   "cell_type": "code",
   "execution_count": 33,
   "metadata": {},
   "outputs": [
    {
     "data": {
      "text/html": [
       "\n",
       "        <iframe\n",
       "            width=\"600\"\n",
       "            height=\"600\"\n",
       "            src=\"climate-chart-script/climate-chart-9qq.clim-climate.pdf\"\n",
       "            frameborder=\"0\"\n",
       "            allowfullscreen\n",
       "        ></iframe>\n",
       "        "
      ],
      "text/plain": [
       "<IPython.lib.display.IFrame at 0x7fbc0174bcf8>"
      ]
     },
     "execution_count": 33,
     "metadata": {},
     "output_type": "execute_result"
    }
   ],
   "source": [
    "import os\n",
    "f = open(output_file_path, 'w')\n",
    "f.write(\"#Geo-hash starts with \" + input_geo_hash + \"\\n\")\n",
    "for elem in output_data:\n",
    "    f.write(\"{} {:.5f} {:.5f} {:.5f} {:.5f}\\n\".format(elem[0], elem[1], elem[2], elem[3], elem[4]))\n",
    "f.close()\n",
    "\n",
    "os.system('python climate-chart-script/plot.py ' + output_file_path)\n",
    "from IPython.display import IFrame\n",
    "IFrame(output_file_path+'-climate.pdf', width=600, height=600)"
   ]
  },
  {
   "cell_type": "code",
   "execution_count": null,
   "metadata": {},
   "outputs": [],
   "source": []
  }
 ],
 "metadata": {
  "kernelspec": {
   "display_name": "Python 3",
   "language": "python",
   "name": "python3"
  },
  "language_info": {
   "codemirror_mode": {
    "name": "ipython",
    "version": 3
   },
   "file_extension": ".py",
   "mimetype": "text/x-python",
   "name": "python",
   "nbconvert_exporter": "python",
   "pygments_lexer": "ipython3",
   "version": "3.7.3"
  }
 },
 "nbformat": 4,
 "nbformat_minor": 2
}
