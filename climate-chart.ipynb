{
 "cells": [
  {
   "cell_type": "code",
   "execution_count": null,
   "metadata": {},
   "outputs": [],
   "source": [
    "input_geo_hash = '9p'"
   ]
  },
  {
   "cell_type": "code",
   "execution_count": null,
   "metadata": {},
   "outputs": [],
   "source": [
    "import geohash\n",
    "import datetime\n",
    "\n",
    "def parseLine(line):\n",
    "    variables = line.split(\"\\t\")\n",
    "    try:\n",
    "        milliseconds = int(variables[0])\n",
    "        dt = datetime.datetime.fromtimestamp(milliseconds/1000.0)\n",
    "\n",
    "        lat = float(variables[1])\n",
    "        lon = float(variables[2])\n",
    "        temperature = float(variables[10])\n",
    "        precipitation = float(variables[13])\n",
    "        gh = geohash.encode(lat, lon)\n",
    "        return (gh, dt.month, temperature, precipitation)\n",
    "    except:\n",
    "        return ('', 0, 0, 0)\n",
    "\n",
    "text_file = sc.textFile(\"hdfs://orion11:12001/pj3/3hr/2015/\")\n",
    "\n",
    "# (GeoHash, month, temperature, precipitation)\n",
    "parsed_data = text_file \\\n",
    "    .map(lambda line: parseLine(line)) \\\n",
    "    .filter(lambda data: data[0].startswith(input_geo_hash)) \\\n"
   ]
  },
  {
   "cell_type": "code",
   "execution_count": null,
   "metadata": {},
   "outputs": [],
   "source": [
    "# average temperature\n",
    "month_temperature_pair = parsed_data.map(lambda data: (data[1], data[2]))\n",
    "\n",
    "allTemps = month_temperature_pair.groupByKey()\n",
    "\n",
    "avg_temp_dict = {}\n",
    "for element in allTemps.collect():\n",
    "    count = 0\n",
    "    temp_sum = 0\n",
    "    for temp in element[1]:\n",
    "        count += 1\n",
    "        temp_sum += temp\n",
    "    avg_temp_dict[\"{:02d}\".format(element[0])] = temp_sum/count\n",
    "    print((element[0], temp_sum/count))"
   ]
  },
  {
   "cell_type": "code",
   "execution_count": null,
   "metadata": {},
   "outputs": [],
   "source": [
    "# maximum temperature\n",
    "\n",
    "max_temp_dict = {}\n",
    "maxTemps = month_temperature_pair.reduceByKey(lambda a, b: max(a,b))\n",
    "for element in maxTemps.collect():\n",
    "    print(element)\n",
    "    max_temp_dict[\"{:02d}\".format(element[0])] = element[1]\n"
   ]
  },
  {
   "cell_type": "code",
   "execution_count": null,
   "metadata": {},
   "outputs": [],
   "source": [
    "# minimum teperature\n",
    "min_temp_dict = {}\n",
    "minTemps = month_temperature_pair.reduceByKey(lambda a, b: min(a,b))\n",
    "for element in minTemps.collect():\n",
    "    print(element)\n",
    "    min_temp_dict[\"{:02d}\".format(element[0])] = element[1]"
   ]
  },
  {
   "cell_type": "code",
   "execution_count": null,
   "metadata": {},
   "outputs": [],
   "source": [
    "# average precipitation\n",
    "avg_prec_dict = {}\n",
    "month_precipitation_pair = parsed_data.map(lambda data: (data[1], data[3]))\n",
    "month_precipitation_grouped = month_precipitation_pair.groupByKey();\n",
    "for mp in month_precipitation_grouped.collect():\n",
    "    count = 0;\n",
    "    rain_sum = 0;\n",
    "    for rain in mp[1]:\n",
    "        count += 1\n",
    "        rain_sum += rain\n",
    "    print((mp[0], rain_sum/count))\n",
    "    avg_prec_dict[\"{:02d}\".format(mp[0])] = rain_sum/count"
   ]
  },
  {
   "cell_type": "code",
   "execution_count": null,
   "metadata": {},
   "outputs": [],
   "source": []
  }
 ],
 "metadata": {
  "kernelspec": {
   "display_name": "Python 3",
   "language": "python",
   "name": "python3"
  },
  "language_info": {
   "codemirror_mode": {
    "name": "ipython",
    "version": 3
   },
   "file_extension": ".py",
   "mimetype": "text/x-python",
   "name": "python",
   "nbconvert_exporter": "python",
   "pygments_lexer": "ipython3",
   "version": "3.7.3"
  }
 },
 "nbformat": 4,
 "nbformat_minor": 2
}
