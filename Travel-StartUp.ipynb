{
 "cells": [
  {
   "cell_type": "markdown",
   "metadata": {},
   "source": [
    "## Travel Startup\n",
    "After graduating from USF, you found a startup that aims to provide personalized travel itineraries using big data analysis. Given your own personal preferences, build a plan for a year of travel across 5 locations. Or, in other words: pick 5 regions. What is the best time of year to visit them based on the dataset?\n",
    "\n",
    "Part of this involves determining the comfort index for a region. You could incorporate several features: not too hot, not too cold, dry, humid, windy, etc. There are several different ways of calculating this available online, and you could also analyze how well your own metrics do.\n",
    "\n",
    "Another part of this involves presentation. You have to convince your potential customers that your travel itinerary is better than something they could come up with themselves with a little Googling. You can use pictures, information about local points of interest, etc."
   ]
  },
  {
   "cell_type": "markdown",
   "metadata": {},
   "source": [
    "According to [Britannica's report](https://www.britannica.com/science/temperature-humidity-index), the formula of calculating The discomprt index is 15 + 0.4(dry-bulb temperature + web-bulb temperature(F)). However, in the NAM dataset wo do not have the air temperature(equals to dry-bulb temperature), we took the surface temperature as the dry-bulb(well, they are similar enough). Most people are quite comfortable when the index is below 70 and very uncomfortable when the index is above 80 to 85.  \n",
    "\n",
    "There are a lot of approaches to cacluate the wet-bulb temperature. The [How to calcylate the wet bulb temperature](https://www.omnicalculator.com/physics/wet-bulb#how-to-calculate-the-wet-bulb-temperature) gives us a way, by dry-bulb(Td) and relative humidity(rh), to simply obtain the wet-bulb-temperature(Tw).  \n",
    "Tw = Td * arctan[0.151977 * (rh + 8.313659)^(1/2)] + arctan(Td + rh) - arctan(rh - 1.676331) + 0.00391838 *(rh)^(3/2) * arctan(0.023101 * rh) - 4.686035   \n",
    "\n",
    "Within the wet/dry-bulb temperature, the discomprt index indicates \n"
   ]
  },
  {
   "cell_type": "code",
   "execution_count": 1,
   "metadata": {},
   "outputs": [],
   "source": [
    "import math\n",
    "import geohash\n",
    "\n",
    "def wetBuldCalculator(temp_celsius, rh):\n",
    "    return temp_celsius \\\n",
    "    * math.atan(0.151977 * (rh + 8.313659)**(1/2)) \\\n",
    "    + math.atan(temp_celsius + rh) \\\n",
    "    - math.atan(rh - 1.676331) \\\n",
    "    + 0.00391838 * (rh)**(3/2) \\\n",
    "    * math.atan(0.023101 * rh) \\\n",
    "    - 4.686035\n",
    "\n",
    "def confortIndex(dry_buld, rh):\n",
    "    dry_buld_c = dry_buld - 273.15\n",
    "    wet_buld_c = wetBuldCalculator(dry_buld_c, rh)\n",
    "    ci = 15 + 0.4 * ((dry_buld_c + wet_buld_c) * (9.0 / 5.0) + 32)\n",
    "    return ci\n",
    "\n"
   ]
  },
  {
   "cell_type": "code",
   "execution_count": 2,
   "metadata": {},
   "outputs": [],
   "source": [
    "#geohash.encode(42.392469, -71.215895)"
   ]
  },
  {
   "cell_type": "code",
   "execution_count": 3,
   "metadata": {},
   "outputs": [],
   "source": [
    "import datetime\n",
    "\n",
    "def parseLine(line):\n",
    "    variables = line.split(\"\\t\")\n",
    "    try:\n",
    "        milliseconds = int(variables[0])\n",
    "        dt = datetime.datetime.fromtimestamp(milliseconds/1000.0)\n",
    "        lat = float(variables[1])\n",
    "        lon = float(variables[2])\n",
    "        rh = float(variables[8])\n",
    "        temperatureK = float(variables[10])\n",
    "        ci = confortIndex(temperatureK, rh)\n",
    "        gh = geohash.encode(lat, lon)\n",
    "        return (gh, dt.month, ci)\n",
    "    except:\n",
    "        return ('', 0, 0)\n",
    "    \n",
    "text_file = sc.textFile(\"hdfs://orion11:12001/pj3/3hr_sample/sampled_2015/\")\n",
    "\n",
    "\n",
    "def month_ci_location(gh):\n",
    "    parsed_data = text_file \\\n",
    "    .map(lambda line: parseLine(line)) \\\n",
    "    .filter(lambda data: data[0].startswith(gh)) \n",
    "    month_ci_goruped = parsed_data.map(lambda data: (data[1], data[2])).groupByKey()\n",
    "    result = []\n",
    "    for element in month_ci_goruped.collect():\n",
    "        count = 0\n",
    "        ci_sum = 0\n",
    "        for ci in element[1]:\n",
    "            count += 1\n",
    "            ci_sum += ci\n",
    "        result.append((element[0], ci_sum/count))\n",
    "    return result\n"
   ]
  },
  {
   "cell_type": "code",
   "execution_count": 4,
   "metadata": {},
   "outputs": [
    {
     "name": "stdout",
     "output_type": "stream",
     "text": [
      "(1, 41.94664656612848)\n",
      "(2, 43.56754931646432)\n",
      "(3, 41.400634301655266)\n",
      "(4, 41.125913633577795)\n",
      "(5, 40.30798040814995)\n",
      "(6, 43.03409235851835)\n",
      "(7, 48.04026539833832)\n",
      "(8, 47.453832664177305)\n",
      "(9, 47.36085540383962)\n",
      "(10, 47.544040385811535)\n",
      "(11, 43.14175256378289)\n",
      "(12, 43.385680187793625)\n"
     ]
    }
   ],
   "source": [
    "boston = month_ci_location(\"9q8y\")\n",
    "\n",
    "for data in boston:\n",
    "    print(data)\n"
   ]
  },
  {
   "cell_type": "code",
   "execution_count": null,
   "metadata": {},
   "outputs": [],
   "source": []
  }
 ],
 "metadata": {
  "kernelspec": {
   "display_name": "Python 3",
   "language": "python",
   "name": "python3"
  },
  "language_info": {
   "codemirror_mode": {
    "name": "ipython",
    "version": 3
   },
   "file_extension": ".py",
   "mimetype": "text/x-python",
   "name": "python",
   "nbconvert_exporter": "python",
   "pygments_lexer": "ipython3",
   "version": "3.7.3"
  }
 },
 "nbformat": 4,
 "nbformat_minor": 2
}
