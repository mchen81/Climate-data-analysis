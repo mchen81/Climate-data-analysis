{
 "cells": [
  {
   "cell_type": "code",
   "execution_count": 17,
   "metadata": {},
   "outputs": [],
   "source": [
    "import geohash\n",
    "import datetime\n",
    "\n",
    "def parseLine(line):\n",
    "    variables = line.split(\"\\t\")\n",
    "    try:\n",
    "        milliseconds = int(variables[0])\n",
    "        dt = datetime.datetime.fromtimestamp(milliseconds/1000.0)\n",
    "\n",
    "        lat = float(variables[1])\n",
    "        lon = float(variables[2])\n",
    "        temperature = float(variables[10]) - 273.0\n",
    "        precipitation = float(variables[13])\n",
    "        gh = geohash.encode(lat, lon)\n",
    "        return (gh, dt.month, temperature, precipitation)\n",
    "    except:\n",
    "        return ('', 0, 0, 0)\n",
    "\n",
    "prefix = \"9p\"\n",
    "    \n",
    "#text_file = sc.textFile(\"hdfs://orion11:12001/pj3/3hr_sample/sampled_2015/part-00004-300232b0-d488-4017-8741-efda0762a4d3-c000.tdv.gz\")\n",
    "text_file = sc.textFile(\"hdfs://orion11:12001/pj3/3hr_sample/sampled_2015/\")\n",
    "\n",
    "# (GeoHash, month, temperature, precipitation)\n",
    "parsed_data = text_file \\\n",
    "    .map(lambda line: parseLine(line)) \\\n",
    "    .filter(lambda data: data[0].startswith(\"9p\")) \\\n"
   ]
  },
  {
   "cell_type": "code",
   "execution_count": 32,
   "metadata": {},
   "outputs": [
    {
     "name": "stdout",
     "output_type": "stream",
     "text": [
      "(1, 13.024943762371255)\n",
      "(2, 13.063885973780156)\n",
      "(3, 12.995700196384332)\n",
      "(4, 12.994589544131415)\n",
      "(5, 13.72163984510928)\n",
      "(6, 15.27776004023778)\n",
      "(7, 17.534185501372868)\n",
      "(8, 18.66300041487601)\n",
      "(9, 18.471258106045905)\n",
      "(10, 17.700511886549062)\n",
      "(11, 15.804166341370385)\n",
      "(12, 13.736084409453184)\n"
     ]
    }
   ],
   "source": [
    "# average temperature\n",
    "month_temperature_pair = parsed_data.map(lambda data: (data[1], data[2]))\n",
    "\n",
    "allTemps = month_temperature_pair.groupByKey()\n",
    "\n",
    "for element in allTemps.collect():\n",
    "    count = 0\n",
    "    temp_sum = 0\n",
    "    for temp in element[1]:\n",
    "        count += 1\n",
    "        temp_sum += temp\n",
    "    print((element[0], temp_sum/count))\n",
    "\n"
   ]
  },
  {
   "cell_type": "code",
   "execution_count": 30,
   "metadata": {},
   "outputs": [
    {
     "name": "stdout",
     "output_type": "stream",
     "text": [
      "(1, 23.96746999999999)\n",
      "(2, 25.136439999999993)\n",
      "(3, 30.51139999999998)\n",
      "(4, 33.47949999999997)\n",
      "(5, 34.94970000000001)\n",
      "(6, 41.888919999999985)\n",
      "(7, 45.38745)\n",
      "(8, 42.3186)\n",
      "(9, 42.74756000000002)\n",
      "(10, 35.76049999999998)\n",
      "(11, 24.174320000000023)\n",
      "(12, 17.775969999999973)\n"
     ]
    }
   ],
   "source": [
    "# maximum temperature\n",
    "\n",
    "maxTemps = month_temperature_pair.reduceByKey(lambda a, b: max(a,b))\n",
    "for element in maxTemps.collect():\n",
    "    print(element)\n"
   ]
  },
  {
   "cell_type": "code",
   "execution_count": 28,
   "metadata": {},
   "outputs": [
    {
     "name": "stdout",
     "output_type": "stream",
     "text": [
      "(1, -4.027699999999982)\n",
      "(2, -1.2094000000000165)\n",
      "(3, -4.883359999999982)\n",
      "(4, 0.6752999999999929)\n",
      "(5, 3.9842199999999934)\n",
      "(6, 6.788819999999987)\n",
      "(7, 9.896729999999991)\n",
      "(8, 8.30419999999998)\n",
      "(9, 5.084960000000024)\n",
      "(10, 3.7046000000000276)\n",
      "(11, -7.347140000000024)\n",
      "(12, -5.877499999999998)\n"
     ]
    }
   ],
   "source": [
    "# minimum teperature\n",
    "\n",
    "minTemps = month_temperature_pair.reduceByKey(lambda a, b: min(a,b))\n",
    "for element in minTemps.collect():\n",
    "    print(element)"
   ]
  },
  {
   "cell_type": "code",
   "execution_count": 31,
   "metadata": {},
   "outputs": [
    {
     "name": "stdout",
     "output_type": "stream",
     "text": [
      "(1, 0.29830751936047967)\n",
      "(2, 0.6940859993403694)\n",
      "(3, 0.41724514457883555)\n",
      "(4, 0.2715082252451756)\n",
      "(5, 0.08299456081907666)\n",
      "(6, 0.05662295361164924)\n",
      "(7, 0.05651621075891496)\n",
      "(8, 0.14651450022367885)\n",
      "(9, 0.13561652688419118)\n",
      "(10, 0.2079679756004575)\n",
      "(11, 0.4159643046370612)\n",
      "(12, 1.2858842566152675)\n"
     ]
    }
   ],
   "source": [
    "# average precipitation\n",
    "month_precipitation_pair = parsed_data.map(lambda data: (data[1], data[3]))\n",
    "month_precipitation_grouped = month_precipitation_pair.groupByKey();\n",
    "for mp in month_precipitation_grouped.collect():\n",
    "    count = 0;\n",
    "    rain_sum = 0;\n",
    "    for rain in mp[1]:\n",
    "        count += 1\n",
    "        rain_sum += rain\n",
    "    print((mp[0], rain_sum/count))\n",
    "\n"
   ]
  }
 ],
 "metadata": {
  "kernelspec": {
   "display_name": "Python 3",
   "language": "python",
   "name": "python3"
  },
  "language_info": {
   "codemirror_mode": {
    "name": "ipython",
    "version": 3
   },
   "file_extension": ".py",
   "mimetype": "text/x-python",
   "name": "python",
   "nbconvert_exporter": "python",
   "pygments_lexer": "ipython3",
   "version": "3.7.3"
  }
 },
 "nbformat": 4,
 "nbformat_minor": 2
}
