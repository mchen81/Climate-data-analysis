{
 "cells": [
  {
   "cell_type": "code",
   "execution_count": 7,
   "metadata": {},
   "outputs": [],
   "source": [
    "#Task: Find out hot products by sorting all the products according to their review number\n",
    "\n",
    "import geohash\n",
    "from datetime import datetime\n",
    "\n",
    "def parseLine(line):\n",
    "    variables = line.split(\"\\t\")\n",
    "    try:\n",
    "        productID = variables[0]\n",
    "        userID = variables[1]\n",
    "        reviewDate = variables[2]\n",
    "        \n",
    "        # if you encounter a \"year is out of range\" error the timestamp\n",
    "        # may be in milliseconds, try `ts /= 1000` in that case\n",
    "        # yearMonth = datetime.utcfromtimestamp(ts).strftime('%Y-%m')\n",
    "        \n",
    "        return (productID, userID, reviewDate)\n",
    "    except:\n",
    "        return ('None', '', '')\n",
    "    \n",
    "#text_file = spark.read.load('hdfs://orion11:21001/3hr_sample/sampled_2015/*', format='csv', sep='\\t', inferSchema=True, header=True)\n",
    "#text_fileML = sc.textFile(\"hdfs://orion11:21001/3hr_sample/*\")\n",
    "text_fileFP = sc.textFile(\"hdfs://orion11:21001/final01/part-r-00000\")\n",
    "\n",
    "# (GeoHash, wind_energy_factor, cloud_cover)\n",
    "parsed_dataFP = text_fileFP \\\n",
    "    .map(lambda line: parseLine(line))"
   ]
  },
  {
   "cell_type": "code",
   "execution_count": 8,
   "metadata": {},
   "outputs": [
    {
     "data": {
      "text/plain": [
       "[('\"0000013765\"', '\"A1C1RNTXWHKYOL\"', '\"06 10, 2016\"'),\n",
       " ('\"0000013765\"', '\"A1KLCGLCXYP1U1\"', '\"08 10, 2013\"'),\n",
       " ('\"0000013765\"', '\"A1NGDVXI2BAG7C\"', '\"08 11, 2014\"'),\n",
       " ('\"0000013765\"', '\"A1XRIJUH07IONQ\"', '\"10 5, 2014\"'),\n",
       " ('\"0000013765\"', '\"A2CSNGBVSO1XQI\"', '\"09 17, 2014\"')]"
      ]
     },
     "execution_count": 8,
     "metadata": {},
     "output_type": "execute_result"
    }
   ],
   "source": [
    "parsed_dataFP.take(5)"
   ]
  }
 ],
 "metadata": {
  "kernelspec": {
   "display_name": "Python 3",
   "language": "python",
   "name": "python3"
  },
  "language_info": {
   "codemirror_mode": {
    "name": "ipython",
    "version": 3
   },
   "file_extension": ".py",
   "mimetype": "text/x-python",
   "name": "python",
   "nbconvert_exporter": "python",
   "pygments_lexer": "ipython3",
   "version": "3.7.3"
  }
 },
 "nbformat": 4,
 "nbformat_minor": 2
}
