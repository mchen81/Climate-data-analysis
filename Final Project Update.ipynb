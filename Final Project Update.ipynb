{
 "cells": [
  {
   "cell_type": "code",
   "execution_count": 1,
   "metadata": {},
   "outputs": [],
   "source": [
    "#Task: Find out hot products by sorting all the products according to their review number\n",
    "\n",
    "import geohash\n",
    "from datetime import datetime\n",
    "\n",
    "def parseLine(line):\n",
    "    variables = line.split(\"\\t\")\n",
    "    try:\n",
    "        productID = variables[0]\n",
    "        userID = variables[1]\n",
    "        reviewDate = variables[2]\n",
    "        \n",
    "        # if you encounter a \"year is out of range\" error the timestamp\n",
    "        # may be in milliseconds, try `ts /= 1000` in that case\n",
    "        # yearMonth = datetime.utcfromtimestamp(ts).strftime('%Y-%m')\n",
    "        \n",
    "        return (productID, userID, reviewDate)\n",
    "    except:\n",
    "        return ('None', '', '')\n",
    "    \n",
    "#text_file = spark.read.load('hdfs://orion11:21001/3hr_sample/sampled_2015/*', format='csv', sep='\\t', inferSchema=True, header=True)\n",
    "#text_fileML = sc.textFile(\"hdfs://orion11:21001/3hr_sample/*\")\n",
    "text_fileFP = sc.textFile(\"hdfs://orion11:21001/final01/part-r-00000\")\n",
    "\n",
    "\n",
    "parsed_dataFP = text_fileFP \\\n",
    "    .map(lambda line: parseLine(line))"
   ]
  },
  {
   "cell_type": "code",
   "execution_count": 8,
   "metadata": {
    "scrolled": true
   },
   "outputs": [
    {
     "data": {
      "text/plain": [
       "[('\"0000013765\"', '\"A1C1RNTXWHKYOL\"', '\"06 10, 2016\"'),\n",
       " ('\"0000013765\"', '\"A1KLCGLCXYP1U1\"', '\"08 10, 2013\"'),\n",
       " ('\"0000013765\"', '\"A1NGDVXI2BAG7C\"', '\"08 11, 2014\"'),\n",
       " ('\"0000013765\"', '\"A1XRIJUH07IONQ\"', '\"10 5, 2014\"'),\n",
       " ('\"0000013765\"', '\"A2CSNGBVSO1XQI\"', '\"09 17, 2014\"')]"
      ]
     },
     "execution_count": 8,
     "metadata": {},
     "output_type": "execute_result"
    }
   ],
   "source": [
    "parsed_dataFP.take(5)"
   ]
  },
  {
   "cell_type": "code",
   "execution_count": 5,
   "metadata": {},
   "outputs": [],
   "source": [
    "FP_Grouped = parsed_dataFP.map(lambda data: (data[0], 1)) \\\n",
    "    .reduceByKey(lambda a, b: a + b) \\\n",
    "    .sortBy(lambda x: x[1], True)\n",
    "\n",
    "#.filter(lambda line: line[1] == 220)\n",
    "    "
   ]
  },
  {
   "cell_type": "code",
   "execution_count": 6,
   "metadata": {
    "scrolled": false
   },
   "outputs": [
    {
     "data": {
      "text/plain": [
       "[('\"1450808581\"', 15),\n",
       " ('\"145086046X\"', 15),\n",
       " ('\"1451687419\"', 15),\n",
       " ('\"1452164991\"', 15),\n",
       " ('\"1453605304\"', 15),\n",
       " ('\"1454908149\"', 15),\n",
       " ('\"1455620343\"', 15),\n",
       " ('\"1456317105\"', 15),\n",
       " ('\"1466316527\"', 15),\n",
       " ('\"1466391618\"', 15),\n",
       " ('\"1467904872\"', 15),\n",
       " ('\"1470042940\"', 15),\n",
       " ('\"1476735549\"', 15),\n",
       " ('\"147872207X\"', 15),\n",
       " ('\"1479169234\"', 15),\n",
       " ('\"147986286X\"', 15),\n",
       " ('\"1480117331\"', 15),\n",
       " ('\"1482079550\"', 15),\n",
       " ('\"1483824144\"', 15),\n",
       " ('\"149108751X\"', 15),\n",
       " ('\"149238724X\"', 15),\n",
       " ('\"149295232X\"', 15),\n",
       " ('\"B000XSNFU6\"', 15),\n",
       " ('\"B000ZKSWM8\"', 15),\n",
       " ('\"B0010C4XHI\"', 15),\n",
       " ('\"B0010KK2NY\"', 15),\n",
       " ('\"B0011WFZHY\"', 15),\n",
       " ('\"B0012358GK\"', 15),\n",
       " ('\"B0012L2E32\"', 15),\n",
       " ('\"B0012PYSMS\"', 15),\n",
       " ('\"B00136NUUW\"', 15),\n",
       " ('\"B0013APN80\"', 15),\n",
       " ('\"B0013F4BF6\"', 15),\n",
       " ('\"B0013JBYV6\"', 15),\n",
       " ('\"B0014VSPCY\"', 15),\n",
       " ('\"B0015DCIBU\"', 15),\n",
       " ('\"B0015IVOPG\"', 15),\n",
       " ('\"B0015TZREY\"', 15),\n",
       " ('\"B0016IYNX0\"', 15),\n",
       " ('\"B0016KA8PA\"', 15),\n",
       " ('\"B001799HHK\"', 15),\n",
       " ('\"B00261JT8U\"', 15),\n",
       " ('\"B0027EL8BC\"', 15),\n",
       " ('\"B0028OG0LY\"', 15),\n",
       " ('\"B00291BZRA\"', 15),\n",
       " ('\"B0029F1Z8A\"', 15),\n",
       " ('\"B002ACOXO0\"', 15),\n",
       " ('\"B002AUBWF0\"', 15),\n",
       " ('\"B002BRUGIQ\"', 15),\n",
       " ('\"B002BSWNHC\"', 15),\n",
       " ('\"B002C4HA2S\"', 15),\n",
       " ('\"B002CVU8XE\"', 15),\n",
       " ('\"B002DVYCDK\"', 15),\n",
       " ('\"B002E1NILQ\"', 15),\n",
       " ('\"B002EB9X10\"', 15),\n",
       " ('\"B002HMZPY0\"', 15),\n",
       " ('\"B002LFPAXO\"', 15),\n",
       " ('\"B002LZ8WDY\"', 15),\n",
       " ('\"B002N1AE8W\"', 15),\n",
       " ('\"B002N2P2HO\"', 15),\n",
       " ('\"B002SSU4AS\"', 15),\n",
       " ('\"B002T9A3YS\"', 15),\n",
       " ('\"B002UPWSH6\"', 15),\n",
       " ('\"B002VLYBL0\"', 15),\n",
       " ('\"B002W820UQ\"', 15),\n",
       " ('\"B002WG4P56\"', 15),\n",
       " ('\"B002YNRRHU\"', 15),\n",
       " ('\"B002ZG97U6\"', 15),\n",
       " ('\"B002ZLOR60\"', 15),\n",
       " ('\"B002ZWEG4C\"', 15),\n",
       " ('\"B0030A3NGK\"', 15),\n",
       " ('\"B0031YNEQY\"', 15),\n",
       " ('\"B0032RDXHA\"', 15),\n",
       " ('\"B0032Z3MCI\"', 15),\n",
       " ('\"B0034V6IHG\"', 15),\n",
       " ('\"B0038A82X6\"', 15),\n",
       " ('\"B003BLOTS4\"', 15),\n",
       " ('\"B003DV78LM\"', 15),\n",
       " ('\"B003EMGLQ8\"', 15),\n",
       " ('\"B003KK81RG\"', 15),\n",
       " ('\"B003KNO014\"', 15),\n",
       " ('\"B003KR5Z7S\"', 15),\n",
       " ('\"B003O5MOBG\"', 15),\n",
       " ('\"B003QR4UDC\"', 15),\n",
       " ('\"B003S1CODO\"', 15),\n",
       " ('\"B003TE5UHM\"', 15),\n",
       " ('\"B003UUIVQM\"', 15),\n",
       " ('\"B003VRI0P6\"', 15),\n",
       " ('\"B005KVHF0M\"', 15),\n",
       " ('\"B005LCS2UC\"', 15),\n",
       " ('\"B005LITBDI\"', 15),\n",
       " ('\"B005MAGS3G\"', 15),\n",
       " ('\"B005ORJJVK\"', 15),\n",
       " ('\"B005PP95NI\"', 15),\n",
       " ('\"B005Q74Z4E\"', 15),\n",
       " ('\"B005TGZDXO\"', 15),\n",
       " ('\"B005V9C89G\"', 15),\n",
       " ('\"B005VK0SB0\"', 15),\n",
       " ('\"B005VTH4GI\"', 15),\n",
       " ('\"B00608D1RA\"', 15),\n",
       " ('\"B0060E7KOY\"', 15),\n",
       " ('\"B0060S31QG\"', 15),\n",
       " ('\"B0061GMDUC\"', 15),\n",
       " ('\"B0061SN2CS\"', 15),\n",
       " ('\"B0062H5L9U\"', 15),\n",
       " ('\"B0062RP50K\"', 15),\n",
       " ('\"B0063L2QD4\"', 15),\n",
       " ('\"B00640GB6W\"', 15),\n",
       " ('\"B0064P3IZ4\"', 15),\n",
       " ('\"B0065DAJT8\"', 15),\n",
       " ('\"B0067U8KO0\"', 15),\n",
       " ('\"B006B27ZNQ\"', 15),\n",
       " ('\"B006C5MPRS\"', 15),\n",
       " ('\"B006E8ZRKU\"', 15),\n",
       " ('\"B006F3HD38\"', 15),\n",
       " ('\"B006GIFFP0\"', 15),\n",
       " ('\"B006GLO1PC\"', 15),\n",
       " ('\"B006GTWCEQ\"', 15),\n",
       " ('\"B006IUZSW6\"', 15),\n",
       " ('\"B006JG47Z8\"', 15),\n",
       " ('\"B006KV6MSM\"', 15),\n",
       " ('\"B006L23QU2\"', 15),\n",
       " ('\"B006LM3490\"', 15),\n",
       " ('\"B006LMIU3U\"', 15),\n",
       " ('\"B006ME0JV8\"', 15),\n",
       " ('\"B006MZDJ9G\"', 15),\n",
       " ('\"B006NCLDDW\"', 15),\n",
       " ('\"B006NI9GQC\"', 15),\n",
       " ('\"B006T7HXI0\"', 15),\n",
       " ('\"B006TF4O5W\"', 15),\n",
       " ('\"B006U8PAX8\"', 15),\n",
       " ('\"B006UGRVJQ\"', 15),\n",
       " ('\"B006X8APGW\"', 15),\n",
       " ('\"B006YBCUQG\"', 15),\n",
       " ('\"B006ZJTNMQ\"', 15),\n",
       " ('\"B0072OJPM6\"', 15),\n",
       " ('\"B0073GLH8S\"', 15),\n",
       " ('\"B0073X8TIM\"', 15),\n",
       " ('\"B0074263MG\"', 15),\n",
       " ('\"B0074B2N76\"', 15),\n",
       " ('\"B0074COZCQ\"', 15),\n",
       " ('\"B0075CU8MG\"', 15),\n",
       " ('\"B0075OU5HM\"', 15),\n",
       " ('\"B0076CQY3M\"', 15),\n",
       " ('\"B00772GK58\"', 15),\n",
       " ('\"B0077QSMXM\"', 15),\n",
       " ('\"B0078CISOS\"', 15),\n",
       " ('\"B0078FBN24\"', 15),\n",
       " ('\"B0078Y3R0G\"', 15),\n",
       " ('\"B007A47EQC\"', 15)]"
      ]
     },
     "execution_count": 6,
     "metadata": {},
     "output_type": "execute_result"
    }
   ],
   "source": [
    "FP_Grouped.take(150)"
   ]
  },
  {
   "cell_type": "code",
   "execution_count": 8,
   "metadata": {},
   "outputs": [
    {
     "ename": "SyntaxError",
     "evalue": "invalid syntax (<ipython-input-8-4b0427398301>, line 1)",
     "output_type": "error",
     "traceback": [
      "\u001b[0;36m  File \u001b[0;32m\"<ipython-input-8-4b0427398301>\"\u001b[0;36m, line \u001b[0;32m1\u001b[0m\n\u001b[0;31m    f2 = spark.read.options(Map(\"inferSchema\"->\"true\",\"delimiter\"->\"/t\"))\u001b[0m\n\u001b[0m                                              ^\u001b[0m\n\u001b[0;31mSyntaxError\u001b[0m\u001b[0;31m:\u001b[0m invalid syntax\n"
     ]
    }
   ],
   "source": []
  }
 ],
 "metadata": {
  "kernelspec": {
   "display_name": "Python 3",
   "language": "python",
   "name": "python3"
  },
  "language_info": {
   "codemirror_mode": {
    "name": "ipython",
    "version": 3
   },
   "file_extension": ".py",
   "mimetype": "text/x-python",
   "name": "python",
   "nbconvert_exporter": "python",
   "pygments_lexer": "ipython3",
   "version": "3.7.3"
  }
 },
 "nbformat": 4,
 "nbformat_minor": 2
}
