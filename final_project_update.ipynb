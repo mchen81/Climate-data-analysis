{
 "cells": [
  {
   "cell_type": "markdown",
   "metadata": {},
   "source": [
    "# Final Project Update(final project task1: check, pre-process, filter, and transform the dataset)\n",
    "\n",
    "The dataset we chose for the final project: http://deepyeti.ucsd.edu/jianmo/amazon/index.html (Amazon review data)\n",
    "\n",
    "The original/raw data is in json format and looks like: {\"overall\": 2.0, \"verified\": false, \"reviewTime\": \"12 5, 2015\", \"reviewerID\": \"A3KUPJ396OQF78\", \"asin\":\n",
    "\"B017O9P72A\", \"reviewerName\": \"Larry Russlin\", \"reviewText\": \"Can only control one of two bulbs from one of\n",
    "two echos\", \"summary\": \"Buggy\", \"unixReviewTime\": 1449273600}\n",
    "\n",
    "As we only care about five fields: Date UserID Product_id Rate Review,\n",
    "we use spark to load and check the raw data, transform the data to the format we need, and then, write back to HDFS\n",
    "\n"
   ]
  },
  {
   "cell_type": "code",
   "execution_count": null,
   "metadata": {},
   "outputs": [],
   "source": [
    "#Task: Load the raw data from HDFS, filter out the fields we don't need. Then, write back to the HDFS\n",
    "#total time: around 30 min\n",
    "\n",
    "reviewDF = spark.read.json(\"hdfs://orion11:21001/All_Amazon_Review_5.json\")\n",
    "\n",
    "reviewDF.printSchema()"
   ]
  },
  {
   "cell_type": "code",
   "execution_count": 2,
   "metadata": {},
   "outputs": [
    {
     "data": {
      "text/plain": [
       "[Row(asin='B017O9P72A', image=None, overall=2.0, reviewText='Can only control one of two bulbs from one of two echos', reviewTime='12 5, 2015', reviewerID='A3KUPJ396OQF78', reviewerName='Larry Russlin', style=None, summary='Buggy', unixReviewTime=1449273600, verified=False, vote=None),\n",
       " Row(asin='B017O9P72A', image=None, overall=5.0, reviewText='Great skill', reviewTime='01 15, 2018', reviewerID='A3TXR8GLKS19RE', reviewerName='Nello', style=None, summary='Great', unixReviewTime=1515974400, verified=False, vote=None),\n",
       " Row(asin='B017O9P72A', image=None, overall=1.0, reviewText='Not happy. Can not connect to Alexa regardless.', reviewTime='01 4, 2018', reviewerID='A1FOHYK23FJ6CN', reviewerName='L. Ray Humphreys', style=None, summary='Can not connect to ECHO', unixReviewTime=1515024000, verified=False, vote='2'),\n",
       " Row(asin='B017O9P72A', image=None, overall=1.0, reviewText='Can not connect a hue lights to Alexa. Linked the LIFX in the Amazon Alexa app. Can not located the smart hue bulbs. It should not be this hard to connect to Alexa. Even watched a you tube video and still', reviewTime='12 30, 2017', reviewerID='A1RRDX9AOST1AN', reviewerName='Viola', style=None, summary='Connecting is a no go', unixReviewTime=1514592000, verified=False, vote='5'),\n",
       " Row(asin='B017O9P72A', image=None, overall=1.0, reviewText='The service works with google home, but doesn\\'t work with alexa. I\\'m getting rid of the \"I\\'m  not sure\" machine.', reviewTime='12 29, 2017', reviewerID='AA4DHYT5YSSIT', reviewerName='angie anj', style=None, summary='Does not work', unixReviewTime=1514505600, verified=False, vote='5')]"
      ]
     },
     "execution_count": 2,
     "metadata": {},
     "output_type": "execute_result"
    }
   ],
   "source": [
    "reviewDF.take(5)"
   ]
  },
  {
   "cell_type": "code",
   "execution_count": 10,
   "metadata": {},
   "outputs": [],
   "source": [
    "'''\n",
    "transform the raw data to \n",
    "Date\\tUserID\\tProduct_id\\tRate\\tReview\n",
    "format\n",
    "'''\n",
    "transformed_data = reviewDF.rdd.map(lambda data: (data[\"reviewTime\"], data[\"reviewerID\"], data[\"asin\"], data[\"overall\"], data[\"reviewText\"]))\n"
   ]
  },
  {
   "cell_type": "code",
   "execution_count": 11,
   "metadata": {
    "scrolled": true
   },
   "outputs": [
    {
     "data": {
      "text/plain": [
       "[('12 5, 2015',\n",
       "  'A3KUPJ396OQF78',\n",
       "  'B017O9P72A',\n",
       "  2.0,\n",
       "  'Can only control one of two bulbs from one of two echos'),\n",
       " ('01 15, 2018', 'A3TXR8GLKS19RE', 'B017O9P72A', 5.0, 'Great skill'),\n",
       " ('01 4, 2018',\n",
       "  'A1FOHYK23FJ6CN',\n",
       "  'B017O9P72A',\n",
       "  1.0,\n",
       "  'Not happy. Can not connect to Alexa regardless.'),\n",
       " ('12 30, 2017',\n",
       "  'A1RRDX9AOST1AN',\n",
       "  'B017O9P72A',\n",
       "  1.0,\n",
       "  'Can not connect a hue lights to Alexa. Linked the LIFX in the Amazon Alexa app. Can not located the smart hue bulbs. It should not be this hard to connect to Alexa. Even watched a you tube video and still'),\n",
       " ('12 29, 2017',\n",
       "  'AA4DHYT5YSSIT',\n",
       "  'B017O9P72A',\n",
       "  1.0,\n",
       "  'The service works with google home, but doesn\\'t work with alexa. I\\'m getting rid of the \"I\\'m  not sure\" machine.')]"
      ]
     },
     "execution_count": 11,
     "metadata": {},
     "output_type": "execute_result"
    }
   ],
   "source": [
    "transformed_data.take(5)"
   ]
  },
  {
   "cell_type": "code",
   "execution_count": 13,
   "metadata": {},
   "outputs": [],
   "source": [
    "#Write rdd back to hdfs\n",
    "\n",
    "def toCSVLine(data):\n",
    "    return '\\t'.join(str(d) for d in data)\n",
    "\n",
    "lines = transformed_data.map(toCSVLine)\n",
    "\n",
    "lines.saveAsTextFile('hdfs://orion11:21001/filtered_AMAZON.csv')"
   ]
  },
  {
   "cell_type": "code",
   "execution_count": 14,
   "metadata": {},
   "outputs": [],
   "source": [
    "#Reload from hdfs\n",
    "transformed_data = spark.read.load('hdfs://orion11:21001/filtered_AMAZON.csv/*', format='csv', sep='\\t', inferSchema=True, header=False)"
   ]
  },
  {
   "cell_type": "code",
   "execution_count": 15,
   "metadata": {},
   "outputs": [
    {
     "data": {
      "text/plain": [
       "[Row(_c0='08 27, 2014', _c1='A3IW6WI7AITDGG', _c2='B000038ABO', _c3=5.0, _c4='this game is great'),\n",
       " Row(_c0='11 27, 2013', _c1='A14Q3D86A82GVH', _c2='B000038ABO', _c3=5.0, _c4='Kick ass old school game. If you like games from Square Enix then this is a must have for your library.')]"
      ]
     },
     "execution_count": 15,
     "metadata": {},
     "output_type": "execute_result"
    }
   ],
   "source": [
    "transformed_data.take(2)"
   ]
  },
  {
   "cell_type": "code",
   "execution_count": 17,
   "metadata": {},
   "outputs": [
    {
     "name": "stdout",
     "output_type": "stream",
     "text": [
      "root\n",
      " |-- _c0: string (nullable = true)\n",
      " |-- _c1: string (nullable = true)\n",
      " |-- _c2: string (nullable = true)\n",
      " |-- _c3: double (nullable = true)\n",
      " |-- _c4: string (nullable = true)\n",
      "\n"
     ]
    }
   ],
   "source": [
    "transformed_data.printSchema()"
   ]
  },
  {
   "cell_type": "code",
   "execution_count": null,
   "metadata": {},
   "outputs": [],
   "source": []
  }
 ],
 "metadata": {
  "kernelspec": {
   "display_name": "Python 3",
   "language": "python",
   "name": "python3"
  },
  "language_info": {
   "codemirror_mode": {
    "name": "ipython",
    "version": 3
   },
   "file_extension": ".py",
   "mimetype": "text/x-python",
   "name": "python",
   "nbconvert_exporter": "python",
   "pygments_lexer": "ipython3",
   "version": "3.7.3"
  }
 },
 "nbformat": 4,
 "nbformat_minor": 2
}
