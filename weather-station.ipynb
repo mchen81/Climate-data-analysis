{
 "cells": [
  {
   "cell_type": "markdown",
   "metadata": {},
   "source": [
    "# Weather Station"
   ]
  },
  {
   "cell_type": "markdown",
   "metadata": {},
   "source": [
    "while read line; do\n",
    "    echo $line;\n",
    "    zzz=$(( $RANDOM % 3 ))\n",
    "    sleep 0.${zzz}\n",
    "done < $1 | nc -lk $2\n"
   ]
  },
  {
   "cell_type": "markdown",
   "metadata": {},
   "source": [
    "OKOK\n"
   ]
  },
  {
   "cell_type": "code",
   "execution_count": 8,
   "metadata": {},
   "outputs": [],
   "source": [
    "\n",
    "from pyspark.streaming import StreamingContext\n",
    "# The \"1\" here is the number of seconds between microbatches:\n",
    "ssc = StreamingContext(sc, 0.5)\n",
    "\n",
    "# Required to be able to do state updates:\n",
    "ssc.checkpoint(\"checkpoint\")\n",
    "#ssc.checkpoint(\"file:///home/mchen81/Project3/spark-tmp\")"
   ]
  },
  {
   "cell_type": "code",
   "execution_count": 9,
   "metadata": {},
   "outputs": [],
   "source": [
    "# Updates our distribution\n",
    "def update_temp(new_values, old_values):\n",
    "    return sum(new_values) + (old_values or 0)"
   ]
  },
  {
   "cell_type": "code",
   "execution_count": null,
   "metadata": {},
   "outputs": [],
   "source": [
    "    "
   ]
  },
  {
   "cell_type": "code",
   "execution_count": 10,
   "metadata": {},
   "outputs": [],
   "source": [
    "import geohash\n",
    "import datetime\n",
    "\n",
    "#  surface temperature, pressure, humidity, precipitation, visibility, and wind speed\n",
    "def parseLine(line):    \n",
    "    variables = line.split(\"\\t\")\n",
    "    try:\n",
    "        milliseconds = int(variables[0])\n",
    "        dt = datetime.datetime.fromtimestamp(milliseconds/1000.0)\n",
    "        lat = float(variables[1])\n",
    "        lon = float(variables[2])\n",
    "        pressure = float(variables[6])\n",
    "        humidity = float(variables[8])\n",
    "        temperature = float(variables[10]) - 273.15 #in celcius\n",
    "        precipitation = float(variables[13])\n",
    "        visibility = float(variables[15])\n",
    "        # wind_speed = float(variables[17] == 'null' if 0 else variables[17])\n",
    "        gh = geohash.encode(lat, lon)\n",
    "        return (gh[0:3], dt.month, pressure, humidity, temperature, precipitation, visibility)\n",
    "\n",
    "    except:\n",
    "        return ('', 0)"
   ]
  },
  {
   "cell_type": "code",
   "execution_count": 11,
   "metadata": {},
   "outputs": [],
   "source": [
    "# For a new value newValue, compute the new count, new mean, the new M2.\n",
    "# mean accumulates the mean of the entire dataset\n",
    "# M2 aggregates the squared distance from the mean\n",
    "# count aggregates the number of samples seen so far\n",
    "\n",
    "def update_mean(newValues, existingAggregate):    \n",
    "    (count, mean, M2) = (existingAggregate or (0, 0, 0))\n",
    "    for newValue in newValues:\n",
    "        count += 1\n",
    "        delta = newValue - mean\n",
    "        mean += delta / count\n",
    "        delta2 = newValue - mean\n",
    "        M2 += delta * delta2\n",
    "    return (count, mean, M2)\n",
    "\n",
    "# Retrieve the mean, variance and sample variance from an aggregate\n",
    "def finalize(existingAggregate):\n",
    "    (count, mean, M2) = existingAggregate\n",
    "    if count < 2:\n",
    "        return float(\"nan\")\n",
    "    else:\n",
    "        (mean, variance, sampleVariance) = (mean, M2 / count, M2 / (count - 1))\n",
    "        return [mean]"
   ]
  },
  {
   "cell_type": "code",
   "execution_count": 12,
   "metadata": {},
   "outputs": [],
   "source": [
    "BOSTON = 'drt'\n",
    "SD = '9mu'\n",
    "SF = '9q8'\n",
    "RICHMOND = '9q9'\n",
    "LA = '9q5'\n",
    "def check_location(gh):\n",
    "    return  gh == BOSTON or \\\n",
    "            gh == SD or \\\n",
    "            gh == SF or \\\n",
    "            gh == RICHMOND or \\\n",
    "            gh == LA    \n",
    "\n",
    "def finalize_rdd(rdd):\n",
    "    data = rdd.collect()\n",
    "    for ele in data:\n",
    "        print((ele[0],finalize(ele[1])))"
   ]
  },
  {
   "cell_type": "code",
   "execution_count": 13,
   "metadata": {},
   "outputs": [],
   "source": [
    "%matplotlib inline\n",
    "import pandas as pd\n",
    "import matplotlib.pyplot as plt\n",
    "import time\n",
    "from IPython import display\n",
    "\n",
    "# Plots the distribution. This executes on the driver!\n",
    "def plot_distribution(rdd):\n",
    "    display.clear_output(wait=True)\n",
    "    df = pd.DataFrame(rdd, columns=['location', 'mean'])\n",
    "    df.sort_values('location', ascending=True) \\\n",
    "        .plot(kind='bar', x='location', y='mean')\n",
    "    display.display(plt.gcf())\n",
    "    plt.close()\n"
   ]
  },
  {
   "cell_type": "code",
   "execution_count": 14,
   "metadata": {},
   "outputs": [
    {
     "data": {
      "image/png": "[encoded data removed]",
      "text/plain": [
       "<Figure size 432x288 with 1 Axes>"
      ]
     },
     "metadata": {},
     "output_type": "display_data"
    },
    {
     "name": "stdout",
     "output_type": "stream",
     "text": [
      "-------------------------------------------\n",
      "Time: 2020-11-26 05:42:01.500000\n",
      "-------------------------------------------\n",
      "['drt', -10.246301056268472]\n",
      "['9q8', 13.325438544739459]\n",
      "['9q5', 12.020306167147]\n",
      "['9mu', 14.900277028037426]\n",
      "['9q9', 9.309414245917411]\n",
      "\n"
     ]
    },
    {
     "name": "stderr",
     "output_type": "stream",
     "text": [
      "ERROR:root:Invalid alias: The name clear can't be aliased because it is another magic command.\n",
      "ERROR:root:Invalid alias: The name more can't be aliased because it is another magic command.\n",
      "ERROR:root:Invalid alias: The name less can't be aliased because it is another magic command.\n",
      "ERROR:root:Invalid alias: The name man can't be aliased because it is another magic command.\n"
     ]
    }
   ],
   "source": [
    "lines = ssc.socketTextStream(\"orion03\", 12889)\n",
    "weather_info = lines.map(lambda line: parseLine(line))\n",
    "filtered_location = weather_info.filter(lambda t: check_location(t[0]))\n",
    "location_pressure = filtered_location.map(lambda t: (t[0], t[4])) # geo-hash -> pressure\n",
    "distrib = location_pressure.updateStateByKey(update_mean)\n",
    "finalized = distrib.map(lambda dis: [dis[0]] + finalize(dis[1]))\n",
    "finalized.foreachRDD(lambda rdd: plot_distribution(rdd.collect()))\n",
    "finalized.pprint()\n",
    "#finalized.foreachRDD(lambda rdd: rdd.foreach(ppp))\n",
    "# display.display(plt.gcf())\n",
    "ssc.start()\n",
    "# ssc.awaitTermination()"
   ]
  },
  {
   "cell_type": "code",
   "execution_count": null,
   "metadata": {},
   "outputs": [],
   "source": []
  },
  {
   "cell_type": "code",
   "execution_count": 8,
   "metadata": {
    "scrolled": false
   },
   "outputs": [
    {
     "name": "stdout",
     "output_type": "stream",
     "text": [
      "-------------------------------------------\n",
      "Time: 2020-11-26 05:36:34\n",
      "-------------------------------------------\n",
      "\n"
     ]
    }
   ],
   "source": [
    "ssc.stop(stopSparkContext=False)"
   ]
  }
 ],
 "metadata": {
  "kernelspec": {
   "display_name": "Python 3",
   "language": "python",
   "name": "python3"
  },
  "language_info": {
   "codemirror_mode": {
    "name": "ipython",
    "version": 3
   },
   "file_extension": ".py",
   "mimetype": "text/x-python",
   "name": "python",
   "nbconvert_exporter": "python",
   "pygments_lexer": "ipython3",
   "version": "3.7.3"
  }
 },
 "nbformat": 4,
 "nbformat_minor": 2
}
