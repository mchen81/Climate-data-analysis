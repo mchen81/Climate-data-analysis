{
 "cells": [
  {
   "cell_type": "code",
   "execution_count": 6,
   "metadata": {},
   "outputs": [
    {
     "data": {
      "text/plain": [
       "45.17689245771212"
      ]
     },
     "execution_count": 6,
     "metadata": {},
     "output_type": "execute_result"
    }
   ],
   "source": [
    "import math\n",
    "import geohash\n",
    "\n",
    "def wetBuldCalculator(temp_celsius, rh):\n",
    "    return temp_celsius \\\n",
    "    * math.atan(0.151977 * (rh + 8.313659)**(1/2)) \\\n",
    "    + math.atan(temp_celsius + rh) \\\n",
    "    - math.atan(rh - 1.676331) \\\n",
    "    + 0.00391838 * (rh)**(3/2) \\\n",
    "    * math.atan(0.023101 * rh) \\\n",
    "    - 4.686035\n",
    "\n",
    "def confortIndex(dry_buld, rh):\n",
    "    dry_buld_c = dry_buld - 273.15\n",
    "    wet_buld_c = wetBuldCalculator(dry_buld_c, rh)\n",
    "    ci = 15 + 0.4 * ((dry_buld_c + wet_buld_c) * (9.0 / 5.0) + 32)\n",
    "    return ci\n",
    "\n"
   ]
  },
  {
   "cell_type": "code",
   "execution_count": 7,
   "metadata": {},
   "outputs": [
    {
     "data": {
      "text/plain": [
       "'drt35mq4j2gz'"
      ]
     },
     "execution_count": 7,
     "metadata": {},
     "output_type": "execute_result"
    }
   ],
   "source": [
    "#geohash.encode(42.392469, -71.215895)"
   ]
  },
  {
   "cell_type": "code",
   "execution_count": 15,
   "metadata": {},
   "outputs": [],
   "source": [
    "import datetime\n",
    "\n",
    "def parseLine(line):\n",
    "    variables = line.split(\"\\t\")\n",
    "    try:\n",
    "        milliseconds = int(variables[0])\n",
    "        dt = datetime.datetime.fromtimestamp(milliseconds/1000.0)\n",
    "        lat = float(variables[1])\n",
    "        lon = float(variables[2])\n",
    "        rh = float(variables[8])\n",
    "        temperatureK = float(variables[10])\n",
    "        ci = confortIndex(temperatureK, rh)\n",
    "        gh = geohash.encode(lat, lon)\n",
    "        return (gh, dt.month, ci)\n",
    "    except:\n",
    "        return ('', 0, 0)\n",
    "    \n",
    "text_file = sc.textFile(\"hdfs://orion11:12001/pj3/3hr_sample/sampled_2015/\")\n",
    "\n",
    "\n",
    "def month_ci_location(gh):\n",
    "    parsed_data = text_file \\\n",
    "    .map(lambda line: parseLine(line)) \\\n",
    "    .filter(lambda data: data[0].startswith(gh)) \n",
    "    month_ci_goruped = parsed_data.map(lambda data: (data[1], data[2])).groupByKey()\n",
    "    result = []\n",
    "    for element in month_ci_goruped.collect():\n",
    "        count = 0\n",
    "        ci_sum = 0\n",
    "        for ci in element[1]:\n",
    "            count += 1\n",
    "            ci_sum += ci\n",
    "        result.append((element[0], ci_sum/count))\n",
    "    return result\n"
   ]
  },
  {
   "cell_type": "code",
   "execution_count": 17,
   "metadata": {},
   "outputs": [
    {
     "name": "stdout",
     "output_type": "stream",
     "text": [
      "[(1, 21.23956149906619), (2, 16.75861740434057), (3, 26.080226764546047), (4, 35.49179530520997), (5, 46.7949357763197), (6, 47.81048121769007), (7, 53.41606557872664), (8, 53.37288359330368), (9, 49.891941460302334), (10, 40.59872148461839), (11, 35.54453028416755), (12, 31.971730938078675)]\n"
     ]
    }
   ],
   "source": [
    "boston = month_ci_location(\"drt\")\n",
    "print(boston)\n"
   ]
  },
  {
   "cell_type": "code",
   "execution_count": null,
   "metadata": {},
   "outputs": [],
   "source": []
  }
 ],
 "metadata": {
  "kernelspec": {
   "display_name": "Python 3",
   "language": "python",
   "name": "python3"
  },
  "language_info": {
   "codemirror_mode": {
    "name": "ipython",
    "version": 3
   },
   "file_extension": ".py",
   "mimetype": "text/x-python",
   "name": "python",
   "nbconvert_exporter": "python",
   "pygments_lexer": "ipython3",
   "version": "3.7.3"
  }
 },
 "nbformat": 4,
 "nbformat_minor": 2
}
