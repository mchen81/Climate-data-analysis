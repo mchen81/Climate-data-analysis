{
 "cells": [
  {
   "cell_type": "code",
   "execution_count": 71,
   "metadata": {
    "scrolled": true
   },
   "outputs": [],
   "source": [
    "import geohash\n",
    "\n",
    "def parseLine(line):\n",
    "    variables = line.split(\"\\t\")\n",
    "    try:\n",
    "        lat = float(variables[1])\n",
    "        lon = float(variables[2])\n",
    "        wind_speed = float(variables[17])\n",
    "        cloud_cover = float(variables[12])\n",
    "        \n",
    "        gh = geohash.encode(lat, lon)\n",
    "        return (gh, wind_speed, cloud_cover)\n",
    "    except:\n",
    "        return ('', 0, 0)\n",
    "    \n",
    "#text_file = spark.read.load('hdfs://orion11:21001/3hr_sample/sampled_2015/*', format='csv', sep='\\t', inferSchema=True, header=True)\n",
    "text_file = sc.textFile(\"hdfs://orion11:21001/3hr_sample/sampled_2018/*\")\n",
    "\n",
    "# (GeoHash, wind_speed, cloud_cover)\n",
    "parsed_data = text_file \\\n",
    "    .map(lambda line: parseLine(line))"
   ]
  },
  {
   "cell_type": "code",
   "execution_count": 121,
   "metadata": {},
   "outputs": [
    {
     "data": {
      "text/plain": [
       "[('', 0, 0),\n",
       " ('d5m8kp0vep58', 9.237024, 53.0),\n",
       " ('d6ubvu1j4hpj', 8.837025, 0.0),\n",
       " ('ff5z1sym5nvn', 5.837025, 80.0),\n",
       " ('c9rg5vrm5br3', 10.137025, 94.0)]"
      ]
     },
     "execution_count": 121,
     "metadata": {},
     "output_type": "execute_result"
    }
   ],
   "source": [
    "parsed_data.take(5)"
   ]
  },
  {
   "cell_type": "code",
   "execution_count": 125,
   "metadata": {},
   "outputs": [],
   "source": [
    "wind_data_top3 = parsed_data.map(lambda data: (data[0][0: 4], data[1])) \\\n",
    "    .reduceByKey(lambda a, b: a + b) \\\n",
    "    .sortBy(lambda x: x[1], False) \\\n",
    "    .take(3)"
   ]
  },
  {
   "cell_type": "code",
   "execution_count": 127,
   "metadata": {
    "scrolled": true
   },
   "outputs": [
    {
     "data": {
      "text/plain": [
       "[('d6u5', 11387.314986199997),\n",
       " ('f8r0', 10917.226478890005),\n",
       " ('d6ur', 10916.344857400001)]"
      ]
     },
     "execution_count": 127,
     "metadata": {},
     "output_type": "execute_result"
    }
   ],
   "source": [
    "wind_data_top3"
   ]
  }
 ],
 "metadata": {
  "kernelspec": {
   "display_name": "Python 3",
   "language": "python",
   "name": "python3"
  },
  "language_info": {
   "codemirror_mode": {
    "name": "ipython",
    "version": 3
   },
   "file_extension": ".py",
   "mimetype": "text/x-python",
   "name": "python",
   "nbconvert_exporter": "python",
   "pygments_lexer": "ipython3",
   "version": "3.7.3"
  }
 },
 "nbformat": 4,
 "nbformat_minor": 2
}
